{
  "nbformat": 4,
  "nbformat_minor": 0,
  "metadata": {
    "colab": {
      "provenance": [],
      "authorship_tag": "ABX9TyMj0mGgt/ohthXqcbWhQ2Gc",
      "include_colab_link": true
    },
    "kernelspec": {
      "name": "python3",
      "display_name": "Python 3"
    },
    "language_info": {
      "name": "python"
    }
  },
  "cells": [
    {
      "cell_type": "markdown",
      "metadata": {
        "id": "view-in-github",
        "colab_type": "text"
      },
      "source": [
        "<a href=\"https://colab.research.google.com/github/ameliacaroline/-ameliacaroline-python-data-science-regression/blob/main/_REGRESS%C3%83O_LINEAR_BASE_DE_DADOS_BOSTON.ipynb\" target=\"_parent\"><img src=\"https://colab.research.google.com/assets/colab-badge.svg\" alt=\"Open In Colab\"/></a>"
      ]
    },
    {
      "cell_type": "markdown",
      "source": [
        "# Criando Matriz de Características e Vetor de Alvos a partir de um DF\n",
        "\n",
        "*alvo = coluna \"MEDV\"*\n",
        "*Matriz = todas as outras colunas*"
      ],
      "metadata": {
        "id": "gbWuSkZPRsna"
      }
    },
    {
      "cell_type": "markdown",
      "source": [
        "**Criando Matriz de Características e\n",
        "Vetor de Alvos a partir de um df**"
      ],
      "metadata": {
        "id": "2T0WAjjSFsHE"
      }
    },
    {
      "cell_type": "code",
      "execution_count": null,
      "metadata": {
        "id": "BOSnhFtRCR_0"
      },
      "outputs": [],
      "source": [
        "import pandas as pd\n",
        "df_boston = pd.read_excel ('boston.xlsx')"
      ]
    },
    {
      "cell_type": "code",
      "source": [
        "df_boston = pd.read_excel('boston.xlsx')\n",
        "print(f\"linhas:{df_boston.shape[0]}\")\n",
        "print(f\"colunas:{df_boston.shape[1]}\")"
      ],
      "metadata": {
        "colab": {
          "base_uri": "https://localhost:8080/"
        },
        "id": "SumkwlArDPhX",
        "outputId": "6fef2d92-fa38-4766-d7cc-d9dd9ba52e76"
      },
      "execution_count": null,
      "outputs": [
        {
          "output_type": "stream",
          "name": "stdout",
          "text": [
            "linhas:506\n",
            "colunas:14\n"
          ]
        }
      ]
    },
    {
      "cell_type": "code",
      "source": [
        "df_boston.describe()"
      ],
      "metadata": {
        "colab": {
          "base_uri": "https://localhost:8080/",
          "height": 291
        },
        "id": "ZpjXmM2nzsnS",
        "outputId": "d6bebd47-524e-4fce-fcb1-0aca62cc3c42"
      },
      "execution_count": 16,
      "outputs": [
        {
          "output_type": "execute_result",
          "data": {
            "text/plain": [
              "               CRIM          ZN         INDUS        CHAS         NOX  \\\n",
              "count  5.060000e+02  506.000000    506.000000  506.000000  506.000000   \n",
              "mean   3.486526e+05   11.363636  11134.409486    0.069170    0.554695   \n",
              "std    8.650846e+05   23.322453   6864.095557    0.253994    0.115878   \n",
              "min    6.320000e-03    0.000000      0.460000    0.000000    0.385000   \n",
              "25%    8.204500e-02    0.000000   5190.000000    0.000000    0.449000   \n",
              "50%    2.565100e-01    0.000000   9690.000000    0.000000    0.538000   \n",
              "75%    3.677082e+05   12.500000  18100.000000    0.000000    0.624000   \n",
              "max    8.897620e+06  100.000000  27740.000000    1.000000    0.871000   \n",
              "\n",
              "                 RM         AGE            DIS         RAD         TAX  \\\n",
              "count    506.000000  506.000000     506.000000  506.000000  506.000000   \n",
              "mean   62846.343874   68.574901   37950.426877    9.549407  408.237154   \n",
              "std     7026.171434   28.148861   21057.101266    8.707259  168.537116   \n",
              "min    35610.000000    2.900000   11296.000000    1.000000  187.000000   \n",
              "25%    58855.000000   45.025000   21001.750000    4.000000  279.000000   \n",
              "50%    62085.000000   77.500000   32074.500000    5.000000  330.000000   \n",
              "75%    66235.000000   94.075000   51884.250000   24.000000  666.000000   \n",
              "max    87800.000000  100.000000  121265.000000   24.000000  711.000000   \n",
              "\n",
              "          PTRATIO           B       LSTAT        MEDV  \n",
              "count  506.000000  506.000000  506.000000  506.000000  \n",
              "mean    18.455534  356.674032   12.653063   22.532806  \n",
              "std      2.164946   91.294864    7.141062    9.197104  \n",
              "min     12.600000    0.320000    1.730000    5.000000  \n",
              "25%     17.400000  375.377500    6.950000   17.025000  \n",
              "50%     19.050000  391.440000   11.360000   21.200000  \n",
              "75%     20.200000  396.225000   16.955000   25.000000  \n",
              "max     22.000000  396.900000   37.970000   50.000000  "
            ],
            "text/html": [
              "\n",
              "  <div id=\"df-d74f7c83-c63c-4e51-812f-0179c354d522\">\n",
              "    <div class=\"colab-df-container\">\n",
              "      <div>\n",
              "<style scoped>\n",
              "    .dataframe tbody tr th:only-of-type {\n",
              "        vertical-align: middle;\n",
              "    }\n",
              "\n",
              "    .dataframe tbody tr th {\n",
              "        vertical-align: top;\n",
              "    }\n",
              "\n",
              "    .dataframe thead th {\n",
              "        text-align: right;\n",
              "    }\n",
              "</style>\n",
              "<table border=\"1\" class=\"dataframe\">\n",
              "  <thead>\n",
              "    <tr style=\"text-align: right;\">\n",
              "      <th></th>\n",
              "      <th>CRIM</th>\n",
              "      <th>ZN</th>\n",
              "      <th>INDUS</th>\n",
              "      <th>CHAS</th>\n",
              "      <th>NOX</th>\n",
              "      <th>RM</th>\n",
              "      <th>AGE</th>\n",
              "      <th>DIS</th>\n",
              "      <th>RAD</th>\n",
              "      <th>TAX</th>\n",
              "      <th>PTRATIO</th>\n",
              "      <th>B</th>\n",
              "      <th>LSTAT</th>\n",
              "      <th>MEDV</th>\n",
              "    </tr>\n",
              "  </thead>\n",
              "  <tbody>\n",
              "    <tr>\n",
              "      <th>count</th>\n",
              "      <td>5.060000e+02</td>\n",
              "      <td>506.000000</td>\n",
              "      <td>506.000000</td>\n",
              "      <td>506.000000</td>\n",
              "      <td>506.000000</td>\n",
              "      <td>506.000000</td>\n",
              "      <td>506.000000</td>\n",
              "      <td>506.000000</td>\n",
              "      <td>506.000000</td>\n",
              "      <td>506.000000</td>\n",
              "      <td>506.000000</td>\n",
              "      <td>506.000000</td>\n",
              "      <td>506.000000</td>\n",
              "      <td>506.000000</td>\n",
              "    </tr>\n",
              "    <tr>\n",
              "      <th>mean</th>\n",
              "      <td>3.486526e+05</td>\n",
              "      <td>11.363636</td>\n",
              "      <td>11134.409486</td>\n",
              "      <td>0.069170</td>\n",
              "      <td>0.554695</td>\n",
              "      <td>62846.343874</td>\n",
              "      <td>68.574901</td>\n",
              "      <td>37950.426877</td>\n",
              "      <td>9.549407</td>\n",
              "      <td>408.237154</td>\n",
              "      <td>18.455534</td>\n",
              "      <td>356.674032</td>\n",
              "      <td>12.653063</td>\n",
              "      <td>22.532806</td>\n",
              "    </tr>\n",
              "    <tr>\n",
              "      <th>std</th>\n",
              "      <td>8.650846e+05</td>\n",
              "      <td>23.322453</td>\n",
              "      <td>6864.095557</td>\n",
              "      <td>0.253994</td>\n",
              "      <td>0.115878</td>\n",
              "      <td>7026.171434</td>\n",
              "      <td>28.148861</td>\n",
              "      <td>21057.101266</td>\n",
              "      <td>8.707259</td>\n",
              "      <td>168.537116</td>\n",
              "      <td>2.164946</td>\n",
              "      <td>91.294864</td>\n",
              "      <td>7.141062</td>\n",
              "      <td>9.197104</td>\n",
              "    </tr>\n",
              "    <tr>\n",
              "      <th>min</th>\n",
              "      <td>6.320000e-03</td>\n",
              "      <td>0.000000</td>\n",
              "      <td>0.460000</td>\n",
              "      <td>0.000000</td>\n",
              "      <td>0.385000</td>\n",
              "      <td>35610.000000</td>\n",
              "      <td>2.900000</td>\n",
              "      <td>11296.000000</td>\n",
              "      <td>1.000000</td>\n",
              "      <td>187.000000</td>\n",
              "      <td>12.600000</td>\n",
              "      <td>0.320000</td>\n",
              "      <td>1.730000</td>\n",
              "      <td>5.000000</td>\n",
              "    </tr>\n",
              "    <tr>\n",
              "      <th>25%</th>\n",
              "      <td>8.204500e-02</td>\n",
              "      <td>0.000000</td>\n",
              "      <td>5190.000000</td>\n",
              "      <td>0.000000</td>\n",
              "      <td>0.449000</td>\n",
              "      <td>58855.000000</td>\n",
              "      <td>45.025000</td>\n",
              "      <td>21001.750000</td>\n",
              "      <td>4.000000</td>\n",
              "      <td>279.000000</td>\n",
              "      <td>17.400000</td>\n",
              "      <td>375.377500</td>\n",
              "      <td>6.950000</td>\n",
              "      <td>17.025000</td>\n",
              "    </tr>\n",
              "    <tr>\n",
              "      <th>50%</th>\n",
              "      <td>2.565100e-01</td>\n",
              "      <td>0.000000</td>\n",
              "      <td>9690.000000</td>\n",
              "      <td>0.000000</td>\n",
              "      <td>0.538000</td>\n",
              "      <td>62085.000000</td>\n",
              "      <td>77.500000</td>\n",
              "      <td>32074.500000</td>\n",
              "      <td>5.000000</td>\n",
              "      <td>330.000000</td>\n",
              "      <td>19.050000</td>\n",
              "      <td>391.440000</td>\n",
              "      <td>11.360000</td>\n",
              "      <td>21.200000</td>\n",
              "    </tr>\n",
              "    <tr>\n",
              "      <th>75%</th>\n",
              "      <td>3.677082e+05</td>\n",
              "      <td>12.500000</td>\n",
              "      <td>18100.000000</td>\n",
              "      <td>0.000000</td>\n",
              "      <td>0.624000</td>\n",
              "      <td>66235.000000</td>\n",
              "      <td>94.075000</td>\n",
              "      <td>51884.250000</td>\n",
              "      <td>24.000000</td>\n",
              "      <td>666.000000</td>\n",
              "      <td>20.200000</td>\n",
              "      <td>396.225000</td>\n",
              "      <td>16.955000</td>\n",
              "      <td>25.000000</td>\n",
              "    </tr>\n",
              "    <tr>\n",
              "      <th>max</th>\n",
              "      <td>8.897620e+06</td>\n",
              "      <td>100.000000</td>\n",
              "      <td>27740.000000</td>\n",
              "      <td>1.000000</td>\n",
              "      <td>0.871000</td>\n",
              "      <td>87800.000000</td>\n",
              "      <td>100.000000</td>\n",
              "      <td>121265.000000</td>\n",
              "      <td>24.000000</td>\n",
              "      <td>711.000000</td>\n",
              "      <td>22.000000</td>\n",
              "      <td>396.900000</td>\n",
              "      <td>37.970000</td>\n",
              "      <td>50.000000</td>\n",
              "    </tr>\n",
              "  </tbody>\n",
              "</table>\n",
              "</div>\n",
              "      <button class=\"colab-df-convert\" onclick=\"convertToInteractive('df-d74f7c83-c63c-4e51-812f-0179c354d522')\"\n",
              "              title=\"Convert this dataframe to an interactive table.\"\n",
              "              style=\"display:none;\">\n",
              "        \n",
              "  <svg xmlns=\"http://www.w3.org/2000/svg\" height=\"24px\"viewBox=\"0 0 24 24\"\n",
              "       width=\"24px\">\n",
              "    <path d=\"M0 0h24v24H0V0z\" fill=\"none\"/>\n",
              "    <path d=\"M18.56 5.44l.94 2.06.94-2.06 2.06-.94-2.06-.94-.94-2.06-.94 2.06-2.06.94zm-11 1L8.5 8.5l.94-2.06 2.06-.94-2.06-.94L8.5 2.5l-.94 2.06-2.06.94zm10 10l.94 2.06.94-2.06 2.06-.94-2.06-.94-.94-2.06-.94 2.06-2.06.94z\"/><path d=\"M17.41 7.96l-1.37-1.37c-.4-.4-.92-.59-1.43-.59-.52 0-1.04.2-1.43.59L10.3 9.45l-7.72 7.72c-.78.78-.78 2.05 0 2.83L4 21.41c.39.39.9.59 1.41.59.51 0 1.02-.2 1.41-.59l7.78-7.78 2.81-2.81c.8-.78.8-2.07 0-2.86zM5.41 20L4 18.59l7.72-7.72 1.47 1.35L5.41 20z\"/>\n",
              "  </svg>\n",
              "      </button>\n",
              "      \n",
              "  <style>\n",
              "    .colab-df-container {\n",
              "      display:flex;\n",
              "      flex-wrap:wrap;\n",
              "      gap: 12px;\n",
              "    }\n",
              "\n",
              "    .colab-df-convert {\n",
              "      background-color: #E8F0FE;\n",
              "      border: none;\n",
              "      border-radius: 50%;\n",
              "      cursor: pointer;\n",
              "      display: none;\n",
              "      fill: #1967D2;\n",
              "      height: 32px;\n",
              "      padding: 0 0 0 0;\n",
              "      width: 32px;\n",
              "    }\n",
              "\n",
              "    .colab-df-convert:hover {\n",
              "      background-color: #E2EBFA;\n",
              "      box-shadow: 0px 1px 2px rgba(60, 64, 67, 0.3), 0px 1px 3px 1px rgba(60, 64, 67, 0.15);\n",
              "      fill: #174EA6;\n",
              "    }\n",
              "\n",
              "    [theme=dark] .colab-df-convert {\n",
              "      background-color: #3B4455;\n",
              "      fill: #D2E3FC;\n",
              "    }\n",
              "\n",
              "    [theme=dark] .colab-df-convert:hover {\n",
              "      background-color: #434B5C;\n",
              "      box-shadow: 0px 1px 3px 1px rgba(0, 0, 0, 0.15);\n",
              "      filter: drop-shadow(0px 1px 2px rgba(0, 0, 0, 0.3));\n",
              "      fill: #FFFFFF;\n",
              "    }\n",
              "  </style>\n",
              "\n",
              "      <script>\n",
              "        const buttonEl =\n",
              "          document.querySelector('#df-d74f7c83-c63c-4e51-812f-0179c354d522 button.colab-df-convert');\n",
              "        buttonEl.style.display =\n",
              "          google.colab.kernel.accessAllowed ? 'block' : 'none';\n",
              "\n",
              "        async function convertToInteractive(key) {\n",
              "          const element = document.querySelector('#df-d74f7c83-c63c-4e51-812f-0179c354d522');\n",
              "          const dataTable =\n",
              "            await google.colab.kernel.invokeFunction('convertToInteractive',\n",
              "                                                     [key], {});\n",
              "          if (!dataTable) return;\n",
              "\n",
              "          const docLinkHtml = 'Like what you see? Visit the ' +\n",
              "            '<a target=\"_blank\" href=https://colab.research.google.com/notebooks/data_table.ipynb>data table notebook</a>'\n",
              "            + ' to learn more about interactive tables.';\n",
              "          element.innerHTML = '';\n",
              "          dataTable['output_type'] = 'display_data';\n",
              "          await google.colab.output.renderOutput(dataTable, element);\n",
              "          const docLink = document.createElement('div');\n",
              "          docLink.innerHTML = docLinkHtml;\n",
              "          element.appendChild(docLink);\n",
              "        }\n",
              "      </script>\n",
              "    </div>\n",
              "  </div>\n",
              "  "
            ]
          },
          "metadata": {},
          "execution_count": 16
        }
      ]
    },
    {
      "cell_type": "code",
      "source": [
        "df_boston.info()"
      ],
      "metadata": {
        "colab": {
          "base_uri": "https://localhost:8080/"
        },
        "id": "hbWw3_2cENiP",
        "outputId": "10a44717-bc50-448a-b82c-f0a87e63e909"
      },
      "execution_count": null,
      "outputs": [
        {
          "output_type": "stream",
          "name": "stdout",
          "text": [
            "<class 'pandas.core.frame.DataFrame'>\n",
            "RangeIndex: 506 entries, 0 to 505\n",
            "Data columns (total 14 columns):\n",
            " #   Column   Non-Null Count  Dtype  \n",
            "---  ------   --------------  -----  \n",
            " 0   CRIM     506 non-null    float64\n",
            " 1   ZN       506 non-null    float64\n",
            " 2   INDUS    506 non-null    float64\n",
            " 3   CHAS     506 non-null    int64  \n",
            " 4   NOX      506 non-null    float64\n",
            " 5   RM       506 non-null    int64  \n",
            " 6   AGE      506 non-null    float64\n",
            " 7   DIS      506 non-null    int64  \n",
            " 8   RAD      506 non-null    int64  \n",
            " 9   TAX      506 non-null    float64\n",
            " 10  PTRATIO  506 non-null    float64\n",
            " 11  B        506 non-null    float64\n",
            " 12  LSTAT    506 non-null    float64\n",
            " 13  MEDV     506 non-null    float64\n",
            "dtypes: float64(10), int64(4)\n",
            "memory usage: 55.5 KB\n"
          ]
        }
      ]
    },
    {
      "cell_type": "code",
      "source": [
        "#definindo o alvo = MEDV (a coluna de média de valores)\n",
        "#todas as outras colunas serão Matriz\n",
        "y = df_boston ['MEDV'].values\n",
        "X = df_boston.drop ('MEDV', axis= 1).values "
      ],
      "metadata": {
        "id": "u8_AbkjeEiId"
      },
      "execution_count": null,
      "outputs": []
    },
    {
      "cell_type": "markdown",
      "source": [
        "*Predizendo o valor de uma casa a partir de uma variável preditora*\n",
        "*Criar um gráfico para que a coluna RM (numero de quartos) seja a variável preditora (variavel independente, explanatoria ou variavel preditiva). E o y é a variável dependente (resposta, alvo).*\n",
        "\n",
        "#Teste\n",
        "(Criando a matriz–coluna X_rooms e redimensionando y)\n",
        "\n",
        "• EDA dos dados com um scatter plot"
      ],
      "metadata": {
        "id": "PUsUm_1mHsJv"
      }
    },
    {
      "cell_type": "code",
      "source": [
        "#https://stackoverflow.com/questions/18691084/what-does-1-mean-in-numpy-reshape\n",
        "import seaborn as sns\n",
        "import matplotlib.pyplot as plt\n",
        "\n",
        "X_rooms = X[:,5] #X é DF\n",
        "X_rooms = X_rooms.reshape(-1,1) # -1 (número de linhas desconhecido)\n",
        "\n",
        "y = y.reshape(-1,1)\n",
        "\n",
        "sns.set()\n",
        "plt.scatter(X_rooms, y)\n",
        "plt.xlabel ('Numero de quartos') #variável independente\n",
        "plt.ylabel('Valor ($)')\n",
        "plt.show()"
      ],
      "metadata": {
        "colab": {
          "base_uri": "https://localhost:8080/",
          "height": 285
        },
        "id": "X4MIMf3DI5Xd",
        "outputId": "78943e22-00b7-4770-b123-f057cef02ccd"
      },
      "execution_count": null,
      "outputs": [
        {
          "output_type": "display_data",
          "data": {
            "text/plain": [
              "<Figure size 432x288 with 1 Axes>"
            ],
            "image/png": "[encoded data removed]"
          },
          "metadata": {}
        }
      ]
    },
    {
      "cell_type": "markdown",
      "source": [
        "# AJUSTE DO MODELO DE REGRESSÃO \n",
        "*Ajuste da reta para os dados*\n",
        "*Gráfico da reta*"
      ],
      "metadata": {
        "id": "40Z_miSiRZ-G"
      }
    },
    {
      "cell_type": "code",
      "source": [
        "import numpy as np\n",
        "from sklearn import linear_model\n",
        "\n",
        "reg = linear_model.LinearRegression()\n",
        "reg.fit(X_rooms, y) #Parametro de treinamento: Na frente a variável preditora e depois o alvo.\n",
        "plt.scatter(X_rooms, y, color='blue')\n",
        "prediction_space = np.linspace(min(X_rooms),max(X_rooms)).reshape(-1,1) \n",
        "plt.plot(prediction_space, reg.predict(prediction_space),color='black',linewidth=2)\n",
        "plt.show()\n"
      ],
      "metadata": {
        "colab": {
          "base_uri": "https://localhost:8080/",
          "height": 268
        },
        "id": "oRynOO-jVLc6",
        "outputId": "fb92103f-a0b5-4b31-8085-d09ec1712148"
      },
      "execution_count": null,
      "outputs": [
        {
          "output_type": "display_data",
          "data": {
            "text/plain": [
              "<Figure size 432x288 with 1 Axes>"
            ],
            "image/png": "[encoded data removed]"
          },
          "metadata": {}
        }
      ]
    },
    {
      "cell_type": "markdown",
      "source": [
        "# O Modelo de regressão\n",
        "*y = ax + b*  (a e b são chamados parametros do modelo), (y e x são chamadas variáveis, sendo x a variável indenpendente e y a variável alvo)"
      ],
      "metadata": {
        "id": "uxU5bPzDXOMt"
      }
    },
    {
      "cell_type": "code",
      "source": [
        "from sklearn.model_selection import train_test_split\n",
        "\n",
        "# Dividindo os dados em conjuntos de treinamento e teste\n",
        "X_train, X_test, y_train, y_test = train_test_split(X_rooms, y, test_size=0.3, random_state=42) #divisão do conjunto de dados em 30%\n",
        "\n",
        "# Treinando o modelo com os dados de treinamento\n",
        "reg = linear_model.LinearRegression()\n",
        "reg.fit(X_train, y_train)   #como removi 30% dos dados de teste, tenho apenas 70% p/ testar\n",
        "\n",
        "# Realizando as previsões com os dados de teste\n",
        "y_pred = reg.predict(X_test)\n",
        "\n",
        "# tentando plotar os pontos de dados de teste e a nova linha de regressão\n",
        "plt.scatter(X_test.reshape(-1, 1), y_test.reshape(-1, 1), color='blue')\n",
        "plt.plot(X_test, y_pred, color='red', linewidth=2)\n",
        "plt.title('Gráfico de Regressão Linear Simples')\n",
        "plt.xlabel('Número de quartos')\n",
        "plt.ylabel('Valor ($)')\n",
        "plt.show()\n",
        "\n",
        "# avaliando o desempenho do modelo com o coeficiente de determinação\n",
        "print('Regressão Linear Simples (OLS)')\n",
        "r2_ols = reg.score(X_test, y_test)\n",
        "print('R²:', r2_ols)\n",
        "\n",
        "print(reg.score(X_test, y_test))"
      ],
      "metadata": {
        "colab": {
          "base_uri": "https://localhost:8080/",
          "height": 353
        },
        "id": "88YuRJmharu4",
        "outputId": "e1cbf161-e5df-45a4-b2e8-8d52e7f1fe8b"
      },
      "execution_count": null,
      "outputs": [
        {
          "output_type": "display_data",
          "data": {
            "text/plain": [
              "<Figure size 432x288 with 1 Axes>"
            ],
            "image/png": "[encoded data removed]"
          },
          "metadata": {}
        },
        {
          "output_type": "stream",
          "name": "stdout",
          "text": [
            "Regressão Linear Simples (OLS)\n",
            "R²: 0.4584649934303068\n",
            "0.4584649934303068\n"
          ]
        }
      ]
    },
    {
      "cell_type": "markdown",
      "source": [
        "# Validação Cruzada (Cross-Validation)\n",
        "*Fazendo a regressão com a CV dos dados do teste anterior com cv=5*"
      ],
      "metadata": {
        "id": "78o_9y7NkZs9"
      }
    },
    {
      "cell_type": "code",
      "source": [
        "from sklearn.model_selection import cross_val_score\n",
        "\n",
        "# realizando a regressão linear simples\n",
        "reg = linear_model.LinearRegression()\n",
        "reg.fit(X_rooms, y)\n",
        "\n",
        "# realizando a regressão linear múltipla\n",
        "reg = linear_model.LinearRegression()\n",
        "reg.fit(X_train, y_train)\n",
        "\n",
        "# realizando as previsões com os dados de teste\n",
        "y_pred = reg.predict(X_test)\n",
        "#pontos de dados de teste e a nova linha de regressão\n",
        "plt.scatter(X_test, y_test, color='blue')\n",
        "plt.plot(X_test, y_pred)\n",
        "# plotando os, color='red', linewidth=2)\n",
        "plt.title('Gráfico de Regressão Linear Simples')\n",
        "plt.xlabel('Numero de quartos')\n",
        "plt.ylabel('Valor ($)')\n",
        "plt.show()\n",
        "\n",
        "# avaliando o desempenho do modelo com o coeficiente de determinação\n",
        "print('Regressão Linear Múltipla (OLS)')\n",
        "r2_ols\n",
        "\n",
        "# avaliando o desempenho do modelo com o coeficiente de determinação\n",
        "print('Desempenho:', reg.score(X_test, y_test))\n",
        "\n",
        "# realizando a regressão com o cv\n",
        "reg_cv = linear_model.LinearRegression()\n",
        "cv_results = cross_val_score(reg_cv, X, y, cv=5)\n",
        "print(cv_results)\n",
        "print('Média do R² com validação cruzada:', np.mean(cv_results))\n"
      ],
      "metadata": {
        "colab": {
          "base_uri": "https://localhost:8080/",
          "height": 370
        },
        "id": "vlKf9CCHdR1b",
        "outputId": "87dbe24a-d367-4fae-814f-327b231c08c8"
      },
      "execution_count": null,
      "outputs": [
        {
          "output_type": "display_data",
          "data": {
            "text/plain": [
              "<Figure size 432x288 with 1 Axes>"
            ],
            "image/png": "[encoded data removed]"
          },
          "metadata": {}
        },
        {
          "output_type": "stream",
          "name": "stdout",
          "text": [
            "Regressão Linear Múltipla (OLS)\n",
            "Desempenho: 0.4584649934303068\n",
            "[ 0.63980891  0.71318181  0.58832674  0.08008802 -0.25116841]\n",
            "Média do R² com validação cruzada: 0.3540474116328235\n"
          ]
        }
      ]
    },
    {
      "cell_type": "markdown",
      "source": [
        "# Regressão Ridge\n"
      ],
      "metadata": {
        "id": "iaTYQVAvnE0d"
      }
    },
    {
      "cell_type": "code",
      "source": [
        "from sklearn.linear_model import Ridge\n",
        "from sklearn.model_selection import cross_val_score\n",
        "\n",
        "X_train, X_test, y_train, y_test = train_test_split(X, y, test_size=0.3, random_state = 42)\n",
        "\n",
        "# Instanciando o modelo com alpha = 0.1 e normalização\n",
        "ridge_reg = Ridge(alpha=0.1)  #aqui, não consegui utilizar a normalização \"normalize=True\"\n",
        "\n",
        "# Treinando o modelo com dados de treinamento\n",
        "ridge_reg.fit(X_train, y_train)\n",
        "\n",
        "# Realizando previsões com os dados de teste\n",
        "ridge_pred = ridge_reg.predict(X_test)\n",
        "\n",
        "\n",
        "# Calculando a acurácia do modelo\n",
        "print(ridge_reg.score(X_test, y_test))\n",
        "\n",
        "# Utilizando cross validation para avaliar a performance do modelo\n",
        "cv_results = cross_val_score(ridge_reg, X, y, cv=5)\n",
        "print(cv_results)\n",
        "print(np.mean(cv_results))"
      ],
      "metadata": {
        "id": "dHHxn6z7onOR",
        "colab": {
          "base_uri": "https://localhost:8080/"
        },
        "outputId": "e9263390-d174-440e-a3e0-706c12a1635b"
      },
      "execution_count": null,
      "outputs": [
        {
          "output_type": "stream",
          "name": "stdout",
          "text": [
            "0.7104550054390295\n",
            "[ 0.64391641  0.72275512  0.59643553  0.07974794 -0.23593055]\n",
            "0.3613848910356644\n"
          ]
        }
      ]
    }
  ]
}